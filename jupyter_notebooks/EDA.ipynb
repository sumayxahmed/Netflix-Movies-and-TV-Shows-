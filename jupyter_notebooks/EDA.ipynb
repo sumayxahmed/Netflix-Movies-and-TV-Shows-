{
 "cells": [
  {
   "cell_type": "code",
   "execution_count": null,
   "id": "1b2687ce",
   "metadata": {},
   "outputs": [],
   "source": [
    "# Netflix Movies and TV Shows - Exploratory Data Analysis\n",
    "\n",
    "## Objectives\n",
    "Perform detailed Exploratory Data Analysis (EDA) on Netflix Movies and TV Shows dataset from 2008 to 2021.\n",
    "- Identify key trends in content additions, content type distribution, and regional contributions.\n",
    "- Separate and compare Movies vs TV Shows content patterns over time.\n",
    "- Analyse genre distributions, duration patterns, and country-level content production.\n",
    "- Derive statistical insights and highlight temporal patterns or anomalies in Netflix's content strategy.\n",
    "\n",
    "## Inputs\n",
    "- **Cleaned dataset:** netflix_with_features.csv (from feature engineering process)\n",
    "- **Python libraries:** pandas, numpy, matplotlib, seaborn, plotly\n",
    "- **Columns of interest:** year_added, type, country, listed_in, duration, release_year, rating\n",
    "\n",
    "## Outputs\n",
    "Multiple visualisations showing:\n",
    "- Total content additions trend by year (line chart)\n",
    "- Content additions by type over time (multi-line chart)\n",
    "- Movies vs TV Shows distribution (stacked/grouped bar chart)\n",
    "- Top content genres trends\n",
    "- Content production by country (bar chart)\n",
    "- Duration patterns and rating distributions\n",
    "\n",
    "**Prepared data for use in Power BI dashboard and future analysis**"
   ]
  }
 ],
 "metadata": {
  "kernelspec": {
   "display_name": "venv",
   "language": "python",
   "name": "python3"
  },
  "language_info": {
   "codemirror_mode": {
    "name": "ipython",
    "version": 3
   },
   "file_extension": ".py",
   "mimetype": "text/x-python",
   "name": "python",
   "nbconvert_exporter": "python",
   "pygments_lexer": "ipython3",
   "version": "3.12.8"
  }
 },
 "nbformat": 4,
 "nbformat_minor": 5
}
