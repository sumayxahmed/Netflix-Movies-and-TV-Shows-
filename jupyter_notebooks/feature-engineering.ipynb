{
 "cells": [
  {
   "cell_type": "markdown",
   "id": "69ba256e",
   "metadata": {},
   "source": [
    "# 🎯 Feature Engineering – Netflix Dataset\n",
    "In this notebook, we will create new features from the cleaned Netflix dataset to support data analysis, visualization, and modeling."
   ]
  },
  {
   "cell_type": "code",
   "execution_count": 1,
   "id": "0dc4fd89",
   "metadata": {},
   "outputs": [
    {
     "name": "stdout",
     "output_type": "stream",
     "text": [
      "Working directory: c:\\Users\\Student\\Downloads\\DET\\Practice PBI\\Power BI\\Netflix-Movies-and-TV-Shows-\n"
     ]
    }
   ],
   "source": [
    "# Change to parent directory and import libraries\n",
    "import os\n",
    "import pandas as pd\n",
    "\n",
    "# Change to parent directory to access data folder\n",
    "current_dir = os.getcwd()\n",
    "os.chdir(os.path.dirname(current_dir))\n",
    "print(f\"Working directory: {os.getcwd()}\")"
   ]
  },
  {
   "cell_type": "code",
   "execution_count": 2,
   "id": "87c4216e",
   "metadata": {},
   "outputs": [
    {
     "name": "stdout",
     "output_type": "stream",
     "text": [
      "Dataset shape: (8807, 13)\n"
     ]
    },
    {
     "data": {
      "text/html": [
       "<div>\n",
       "<style scoped>\n",
       "    .dataframe tbody tr th:only-of-type {\n",
       "        vertical-align: middle;\n",
       "    }\n",
       "\n",
       "    .dataframe tbody tr th {\n",
       "        vertical-align: top;\n",
       "    }\n",
       "\n",
       "    .dataframe thead th {\n",
       "        text-align: right;\n",
       "    }\n",
       "</style>\n",
       "<table border=\"1\" class=\"dataframe\">\n",
       "  <thead>\n",
       "    <tr style=\"text-align: right;\">\n",
       "      <th></th>\n",
       "      <th>show_id</th>\n",
       "      <th>type</th>\n",
       "      <th>title</th>\n",
       "      <th>director</th>\n",
       "      <th>cast</th>\n",
       "      <th>country</th>\n",
       "      <th>date_added</th>\n",
       "      <th>release_year</th>\n",
       "      <th>rating</th>\n",
       "      <th>duration</th>\n",
       "      <th>listed_in</th>\n",
       "      <th>description</th>\n",
       "      <th>year_added</th>\n",
       "    </tr>\n",
       "  </thead>\n",
       "  <tbody>\n",
       "    <tr>\n",
       "      <th>0</th>\n",
       "      <td>s1</td>\n",
       "      <td>Movie</td>\n",
       "      <td>Dick Johnson Is Dead</td>\n",
       "      <td>Kirsten Johnson</td>\n",
       "      <td>Not Specified</td>\n",
       "      <td>United States</td>\n",
       "      <td>2021-09-25</td>\n",
       "      <td>2020</td>\n",
       "      <td>PG-13</td>\n",
       "      <td>90 min</td>\n",
       "      <td>Documentaries</td>\n",
       "      <td>As her father nears the end of his life, filmm...</td>\n",
       "      <td>2021.0</td>\n",
       "    </tr>\n",
       "    <tr>\n",
       "      <th>1</th>\n",
       "      <td>s2</td>\n",
       "      <td>TV Show</td>\n",
       "      <td>Blood &amp; Water</td>\n",
       "      <td>Not Specified</td>\n",
       "      <td>Ama Qamata, Khosi Ngema, Gail Mabalane, Thaban...</td>\n",
       "      <td>South Africa</td>\n",
       "      <td>2021-09-24</td>\n",
       "      <td>2021</td>\n",
       "      <td>TV-MA</td>\n",
       "      <td>2 Seasons</td>\n",
       "      <td>International TV Shows, TV Dramas, TV Mysteries</td>\n",
       "      <td>After crossing paths at a party, a Cape Town t...</td>\n",
       "      <td>2021.0</td>\n",
       "    </tr>\n",
       "    <tr>\n",
       "      <th>2</th>\n",
       "      <td>s3</td>\n",
       "      <td>TV Show</td>\n",
       "      <td>Ganglands</td>\n",
       "      <td>Julien Leclercq</td>\n",
       "      <td>Sami Bouajila, Tracy Gotoas, Samuel Jouy, Nabi...</td>\n",
       "      <td>United States</td>\n",
       "      <td>2021-09-24</td>\n",
       "      <td>2021</td>\n",
       "      <td>TV-MA</td>\n",
       "      <td>1 Season</td>\n",
       "      <td>Crime TV Shows, International TV Shows, TV Act...</td>\n",
       "      <td>To protect his family from a powerful drug lor...</td>\n",
       "      <td>2021.0</td>\n",
       "    </tr>\n",
       "    <tr>\n",
       "      <th>3</th>\n",
       "      <td>s4</td>\n",
       "      <td>TV Show</td>\n",
       "      <td>Jailbirds New Orleans</td>\n",
       "      <td>Not Specified</td>\n",
       "      <td>Not Specified</td>\n",
       "      <td>United States</td>\n",
       "      <td>2021-09-24</td>\n",
       "      <td>2021</td>\n",
       "      <td>TV-MA</td>\n",
       "      <td>1 Season</td>\n",
       "      <td>Docuseries, Reality TV</td>\n",
       "      <td>Feuds, flirtations and toilet talk go down amo...</td>\n",
       "      <td>2021.0</td>\n",
       "    </tr>\n",
       "    <tr>\n",
       "      <th>4</th>\n",
       "      <td>s5</td>\n",
       "      <td>TV Show</td>\n",
       "      <td>Kota Factory</td>\n",
       "      <td>Not Specified</td>\n",
       "      <td>Mayur More, Jitendra Kumar, Ranjan Raj, Alam K...</td>\n",
       "      <td>India</td>\n",
       "      <td>2021-09-24</td>\n",
       "      <td>2021</td>\n",
       "      <td>TV-MA</td>\n",
       "      <td>2 Seasons</td>\n",
       "      <td>International TV Shows, Romantic TV Shows, TV ...</td>\n",
       "      <td>In a city of coaching centers known to train I...</td>\n",
       "      <td>2021.0</td>\n",
       "    </tr>\n",
       "  </tbody>\n",
       "</table>\n",
       "</div>"
      ],
      "text/plain": [
       "  show_id     type                  title         director  \\\n",
       "0      s1    Movie   Dick Johnson Is Dead  Kirsten Johnson   \n",
       "1      s2  TV Show          Blood & Water    Not Specified   \n",
       "2      s3  TV Show              Ganglands  Julien Leclercq   \n",
       "3      s4  TV Show  Jailbirds New Orleans    Not Specified   \n",
       "4      s5  TV Show           Kota Factory    Not Specified   \n",
       "\n",
       "                                                cast        country  \\\n",
       "0                                      Not Specified  United States   \n",
       "1  Ama Qamata, Khosi Ngema, Gail Mabalane, Thaban...   South Africa   \n",
       "2  Sami Bouajila, Tracy Gotoas, Samuel Jouy, Nabi...  United States   \n",
       "3                                      Not Specified  United States   \n",
       "4  Mayur More, Jitendra Kumar, Ranjan Raj, Alam K...          India   \n",
       "\n",
       "   date_added  release_year rating   duration  \\\n",
       "0  2021-09-25          2020  PG-13     90 min   \n",
       "1  2021-09-24          2021  TV-MA  2 Seasons   \n",
       "2  2021-09-24          2021  TV-MA   1 Season   \n",
       "3  2021-09-24          2021  TV-MA   1 Season   \n",
       "4  2021-09-24          2021  TV-MA  2 Seasons   \n",
       "\n",
       "                                           listed_in  \\\n",
       "0                                      Documentaries   \n",
       "1    International TV Shows, TV Dramas, TV Mysteries   \n",
       "2  Crime TV Shows, International TV Shows, TV Act...   \n",
       "3                             Docuseries, Reality TV   \n",
       "4  International TV Shows, Romantic TV Shows, TV ...   \n",
       "\n",
       "                                         description  year_added  \n",
       "0  As her father nears the end of his life, filmm...      2021.0  \n",
       "1  After crossing paths at a party, a Cape Town t...      2021.0  \n",
       "2  To protect his family from a powerful drug lor...      2021.0  \n",
       "3  Feuds, flirtations and toilet talk go down amo...      2021.0  \n",
       "4  In a city of coaching centers known to train I...      2021.0  "
      ]
     },
     "execution_count": 2,
     "metadata": {},
     "output_type": "execute_result"
    }
   ],
   "source": [
    "# Load cleaned data\n",
    "df = pd.read_csv('data/netflix_cleaned.csv')\n",
    "\n",
    "# Preview\n",
    "print(f\"Dataset shape: {df.shape}\")\n",
    "df.head()"
   ]
  },
  {
   "cell_type": "markdown",
   "id": "e19970ea",
   "metadata": {},
   "source": [
    "## Extract Year and Month from 'date_added'"
   ]
  },
  {
   "cell_type": "code",
   "execution_count": 3,
   "id": "6087238e",
   "metadata": {},
   "outputs": [
    {
     "name": "stdout",
     "output_type": "stream",
     "text": [
      "Date features created:\n",
      "  date_added  year_added  month_added\n",
      "0 2021-09-25      2021.0          9.0\n",
      "1 2021-09-24      2021.0          9.0\n",
      "2 2021-09-24      2021.0          9.0\n",
      "3 2021-09-24      2021.0          9.0\n",
      "4 2021-09-24      2021.0          9.0\n"
     ]
    }
   ],
   "source": [
    "# Make sure date_added is datetime\n",
    "df['date_added'] = pd.to_datetime(df['date_added'], errors='coerce')\n",
    "\n",
    "# Create year and month features\n",
    "df['year_added'] = df['date_added'].dt.year\n",
    "df['month_added'] = df['date_added'].dt.month\n",
    "\n",
    "print(\"Date features created:\")\n",
    "print(df[['date_added', 'year_added', 'month_added']].head())"
   ]
  },
  {
   "cell_type": "markdown",
   "id": "b19d73a2",
   "metadata": {},
   "source": [
    "##  Title Features"
   ]
  },
  {
   "cell_type": "code",
   "execution_count": 4,
   "id": "37274aa9",
   "metadata": {},
   "outputs": [
    {
     "name": "stdout",
     "output_type": "stream",
     "text": [
      "Title features created:\n",
      "                   title  title_length  title_word_count\n",
      "0   Dick Johnson Is Dead            20                 4\n",
      "1          Blood & Water            13                 3\n",
      "2              Ganglands             9                 1\n",
      "3  Jailbirds New Orleans            21                 3\n",
      "4           Kota Factory            12                 2\n"
     ]
    }
   ],
   "source": [
    "# Title length\n",
    "df['title_length'] = df['title'].apply(len)\n",
    "\n",
    "# Word count in title\n",
    "df['title_word_count'] = df['title'].apply(lambda x: len(x.split()))\n",
    "\n",
    "print(\"Title features created:\")\n",
    "print(df[['title', 'title_length', 'title_word_count']].head())"
   ]
  },
  {
   "cell_type": "markdown",
   "id": "60ef306a",
   "metadata": {},
   "source": [
    "## Country Feature"
   ]
  },
  {
   "cell_type": "code",
   "execution_count": 6,
   "id": "b663c148",
   "metadata": {},
   "outputs": [
    {
     "name": "stdout",
     "output_type": "stream",
     "text": [
      "Country features created:\n",
      "                   title        country  has_multiple_countries\n",
      "0   Dick Johnson Is Dead  United States                   False\n",
      "1          Blood & Water   South Africa                   False\n",
      "2              Ganglands  United States                   False\n",
      "3  Jailbirds New Orleans  United States                   False\n",
      "4           Kota Factory          India                   False\n"
     ]
    }
   ],
   "source": [
    "# Check if show is available in multiple countries\n",
    "df['has_multiple_countries'] = df['country'].apply(lambda x: ',' in x)\n",
    "\n",
    "print(\"Country features created:\")\n",
    "print(df[['title', 'country', 'has_multiple_countries']].head())"
   ]
  },
  {
   "cell_type": "markdown",
   "id": "2585062b",
   "metadata": {},
   "source": [
    "## Duration Feature (Movies Only)"
   ]
  },
  {
   "cell_type": "code",
   "execution_count": 7,
   "id": "37d29461",
   "metadata": {},
   "outputs": [
    {
     "name": "stdout",
     "output_type": "stream",
     "text": [
      "Movie duration features created for 6131 movies:\n",
      "                               title duration  duration_mins duration_category\n",
      "0               Dick Johnson Is Dead   90 min           90.0          Standard\n",
      "6   My Little Pony: A New Generation   91 min           91.0              Long\n",
      "7                            Sankofa  125 min          125.0         Very Long\n",
      "9                       The Starling  104 min          104.0              Long\n",
      "12                      Je Suis Karl  127 min          127.0         Very Long\n"
     ]
    }
   ],
   "source": [
    "# Filter only Movies\n",
    "df_movies = df[df['type'] == 'Movie'].copy()\n",
    "\n",
    "# Extract duration in minutes\n",
    "df_movies['duration_mins'] = df_movies['duration'].str.replace(' min', '').astype(float)\n",
    "\n",
    "# Categorise duration\n",
    "df_movies['duration_category'] = pd.cut(\n",
    "    df_movies['duration_mins'],\n",
    "    bins=[0, 60, 90, 120, float('inf')],\n",
    "    labels=['Short', 'Standard', 'Long', 'Very Long']\n",
    ")\n",
    "\n",
    "print(f\"Movie duration features created for {len(df_movies)} movies:\")\n",
    "print(df_movies[['title', 'duration', 'duration_mins', 'duration_category']].head())"
   ]
  },
  {
   "cell_type": "markdown",
   "id": "7b9ef0ce",
   "metadata": {},
   "source": [
    "## 💾 Save the Feature-Engineered Datasets"
   ]
  },
  {
   "cell_type": "code",
   "execution_count": 8,
   "id": "9eb21cbc",
   "metadata": {},
   "outputs": [
    {
     "name": "stdout",
     "output_type": "stream",
     "text": [
      "✅ Feature engineered datasets saved:\n",
      "   • data/netflix_with_features.csv\n",
      "   • data/netflix_movies_with_features.csv\n",
      "\n",
      "📊 Summary:\n",
      "   • Total records: 8,807\n",
      "   • Total features: 19\n",
      "   • Movies with duration features: 6,131\n",
      "\n",
      "🎯 New features created:\n",
      "   • year_added\n",
      "   • month_added\n",
      "   • title_length\n",
      "   • title_word_count\n",
      "   • num_cast_members\n",
      "   • has_director\n",
      "   • has_multiple_countries\n",
      "\n",
      "🎬 Movie-specific features:\n",
      "   • duration_mins\n",
      "   • duration_category\n"
     ]
    }
   ],
   "source": [
    "# Save the full dataset with new features\n",
    "df.to_csv('data/netflix_with_features.csv', index=False)\n",
    "\n",
    "# Save movies dataset with duration features\n",
    "df_movies.to_csv('data/netflix_movies_with_features.csv', index=False)\n",
    "\n",
    "print(\"✅ Feature engineered datasets saved:\")\n",
    "print(\"   • data/netflix_with_features.csv\")\n",
    "print(\"   • data/netflix_movies_with_features.csv\")\n",
    "\n",
    "print(f\"\\n📊 Summary:\")\n",
    "print(f\"   • Total records: {len(df):,}\")\n",
    "print(f\"   • Total features: {len(df.columns)}\")\n",
    "print(f\"   • Movies with duration features: {len(df_movies):,}\")\n",
    "\n",
    "print(f\"\\n🎯 New features created:\")\n",
    "new_features = ['year_added', 'month_added', 'title_length', 'title_word_count', \n",
    "               'num_cast_members', 'has_director', 'has_multiple_countries']\n",
    "for feature in new_features:\n",
    "    print(f\"   • {feature}\")\n",
    "\n",
    "print(f\"\\n🎬 Movie-specific features:\")\n",
    "movie_features = ['duration_mins', 'duration_category']\n",
    "for feature in movie_features:\n",
    "    print(f\"   • {feature}\")"
   ]
  },
  {
   "cell_type": "code",
   "execution_count": null,
   "id": "217c9a82",
   "metadata": {},
   "outputs": [],
   "source": []
  }
 ],
 "metadata": {
  "kernelspec": {
   "display_name": "Python 3",
   "language": "python",
   "name": "python3"
  },
  "language_info": {
   "codemirror_mode": {
    "name": "ipython",
    "version": 3
   },
   "file_extension": ".py",
   "mimetype": "text/x-python",
   "name": "python",
   "nbconvert_exporter": "python",
   "pygments_lexer": "ipython3",
   "version": "3.12.8"
  }
 },
 "nbformat": 4,
 "nbformat_minor": 5
}
